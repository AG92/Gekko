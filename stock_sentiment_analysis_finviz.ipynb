{
 "cells": [
  {
   "cell_type": "markdown",
   "id": "ba5d5b24",
   "metadata": {},
   "source": [
    "# Sentiment analyzer - finviz"
   ]
  },
  {
   "cell_type": "code",
   "execution_count": 8,
   "id": "d739e027",
   "metadata": {},
   "outputs": [
    {
     "name": "stderr",
     "output_type": "stream",
     "text": [
      "[nltk_data] Downloading package vader_lexicon to C:\\Users\\Aron\n",
      "[nltk_data]     Gosch\\AppData\\Roaming\\nltk_data...\n"
     ]
    },
    {
     "data": {
      "text/plain": [
       "True"
      ]
     },
     "execution_count": 8,
     "metadata": {},
     "output_type": "execute_result"
    }
   ],
   "source": [
    "import nltk\n",
    "nltk.download('vader_lexicon')"
   ]
  },
  {
   "cell_type": "code",
   "execution_count": 9,
   "id": "bf938394",
   "metadata": {},
   "outputs": [],
   "source": [
    "import os\n",
    "import matplotlib.pyplot as plt\n",
    "from bs4 import BeautifulSoup\n",
    "import pandas as pd\n",
    "from urllib.request import urlopen, Request\n",
    "from nltk.sentiment.vader import SentimentIntensityAnalyzer"
   ]
  },
  {
   "cell_type": "markdown",
   "id": "bc88347d",
   "metadata": {},
   "source": [
    "## 1) Data processing"
   ]
  },
  {
   "cell_type": "code",
   "execution_count": 2,
   "id": "7ebcafd1",
   "metadata": {},
   "outputs": [],
   "source": [
    "url = 'https://finviz.com/quote.ashx?t=AMZN'"
   ]
  },
  {
   "cell_type": "code",
   "execution_count": 3,
   "id": "40f2bb96",
   "metadata": {},
   "outputs": [],
   "source": [
    "web_url = 'https://finviz.com/quote.ashx?t='\n",
    "\n",
    "news_tables = {}\n",
    "tickers = ['AMZN', 'GOOG', 'TSLA']\n",
    "\n",
    "for tick in tickers:\n",
    "    url = web_url + tick\n",
    "    req = Request(url=url,headers={\"User-Agent\": \"Chrome\"}) \n",
    "    response = urlopen(req)    \n",
    "    html = BeautifulSoup(response,\"html.parser\")\n",
    "    news_table = html.find(id='news-table')\n",
    "    news_tables[tick] = news_table"
   ]
  },
  {
   "cell_type": "code",
   "execution_count": 4,
   "id": "6d9fc29e",
   "metadata": {},
   "outputs": [
    {
     "name": "stdout",
     "output_type": "stream",
     "text": [
      "Worried About the Market Correction? 3 Tech Stocks to Buy Right Now and Hold Forever\n",
      "Feb-27-22 07:45AM  \n",
      "UPDATE 2-India's Future Retail suspends supermarket operations as Reliance plans takeover\n",
      "02:04AM  \n",
      "India's Future Retail suspends supermarket operations as Reliance plans takeover\n",
      "01:11AM  \n",
      "Shopify Is Taking Its Delivery Services From Test Mode to All-Out Growth Mode\n",
      "Feb-26-22 07:20AM  \n"
     ]
    }
   ],
   "source": [
    "amazon = news_tables['AMZN']\n",
    "amazon_tr = amazon.findAll('tr')\n",
    "\n",
    "for x, table_row in enumerate(amazon_tr):\n",
    "    a_text = table_row.a.text\n",
    "    td_text = table_row.td.text\n",
    "    print(a_text)\n",
    "    print(td_text)\n",
    "    if x == 3:\n",
    "        break"
   ]
  },
  {
   "cell_type": "code",
   "execution_count": 5,
   "id": "e4da5c72",
   "metadata": {},
   "outputs": [],
   "source": [
    "news_list = []\n",
    "\n",
    "for file_name, news_table in news_tables.items():\n",
    "    for i in news_table.findAll('tr'):\n",
    "        text = i.a.get_text() \n",
    "        date_scrape = i.td.text.split()\n",
    "\n",
    "        if len(date_scrape) == 1:\n",
    "            time = date_scrape[0]\n",
    "        else:\n",
    "            date = date_scrape[0]\n",
    "            time = date_scrape[1]\n",
    "\n",
    "        tick = file_name.split('_')[0]\n",
    "        news_list.append([tick, date, time, text])"
   ]
  },
  {
   "cell_type": "code",
   "execution_count": 10,
   "id": "e8adedb8",
   "metadata": {
    "scrolled": false
   },
   "outputs": [
    {
     "name": "stdout",
     "output_type": "stream",
     "text": [
      "  ticker        date     time  \\\n",
      "0   AMZN  2022-02-27  07:45AM   \n",
      "1   AMZN  2022-02-27  02:04AM   \n",
      "2   AMZN  2022-02-27  01:11AM   \n",
      "3   AMZN  2022-02-26  07:20AM   \n",
      "4   AMZN  2022-02-26  07:15AM   \n",
      "\n",
      "                                            headline    neg    neu    pos  \\\n",
      "0  Worried About the Market Correction? 3 Tech St...  0.145  0.855  0.000   \n",
      "1  UPDATE 2-India's Future Retail suspends superm...  0.000  1.000  0.000   \n",
      "2  India's Future Retail suspends supermarket ope...  0.000  1.000  0.000   \n",
      "3  Shopify Is Taking Its Delivery Services From T...  0.000  0.822  0.178   \n",
      "4  The S&P 500 Index Just Entered Correction Terr...  0.000  0.893  0.107   \n",
      "\n",
      "   compound  \n",
      "0   -0.2960  \n",
      "1    0.0000  \n",
      "2    0.0000  \n",
      "3    0.3818  \n",
      "4    0.2023  \n"
     ]
    }
   ],
   "source": [
    "vader = SentimentIntensityAnalyzer()\n",
    "\n",
    "columns = ['ticker', 'date', 'time', 'headline']\n",
    "news_df = pd.DataFrame(news_list, columns=columns)\n",
    "scores = news_df['headline'].apply(vader.polarity_scores).tolist()\n",
    "scores_df = pd.DataFrame(scores)\n",
    "news_df = news_df.join(scores_df, rsuffix='_right')\n",
    "news_df['date'] = pd.to_datetime(news_df.date).dt.date\n",
    "\n",
    "print(news_df.head())"
   ]
  },
  {
   "cell_type": "code",
   "execution_count": 11,
   "id": "016f9ec0",
   "metadata": {},
   "outputs": [
    {
     "data": {
      "image/png": "[encoded data removed]",
      "text/plain": [
       "<Figure size 720x432 with 1 Axes>"
      ]
     },
     "metadata": {
      "needs_background": "light"
     },
     "output_type": "display_data"
    }
   ],
   "source": [
    "plt.rcParams['figure.figsize'] = [10, 6]\n",
    "mean_scores = news_df.groupby(['ticker','date']).mean()\n",
    "mean_scores = mean_scores.unstack()\n",
    "mean_scores = mean_scores.xs('compound', axis=\"columns\").transpose()\n",
    "mean_scores.plot(kind = 'bar')\n",
    "\n",
    "plt.grid()\n",
    "plt.show()"
   ]
  },
  {
   "cell_type": "markdown",
   "id": "92376862",
   "metadata": {},
   "source": [
    "## 2) Recommendations"
   ]
  },
  {
   "cell_type": "code",
   "execution_count": 13,
   "id": "3e6ac151",
   "metadata": {},
   "outputs": [
    {
     "data": {
      "text/html": [
       "<div>\n",
       "<style scoped>\n",
       "    .dataframe tbody tr th:only-of-type {\n",
       "        vertical-align: middle;\n",
       "    }\n",
       "\n",
       "    .dataframe tbody tr th {\n",
       "        vertical-align: top;\n",
       "    }\n",
       "\n",
       "    .dataframe thead th {\n",
       "        text-align: right;\n",
       "    }\n",
       "</style>\n",
       "<table border=\"1\" class=\"dataframe\">\n",
       "  <thead>\n",
       "    <tr style=\"text-align: right;\">\n",
       "      <th>ticker</th>\n",
       "      <th>AMZN</th>\n",
       "      <th>GOOG</th>\n",
       "      <th>TSLA</th>\n",
       "    </tr>\n",
       "    <tr>\n",
       "      <th>date</th>\n",
       "      <th></th>\n",
       "      <th></th>\n",
       "      <th></th>\n",
       "    </tr>\n",
       "  </thead>\n",
       "  <tbody>\n",
       "    <tr>\n",
       "      <th>2022-02-19</th>\n",
       "      <td>NaN</td>\n",
       "      <td>-0.012750</td>\n",
       "      <td>NaN</td>\n",
       "    </tr>\n",
       "    <tr>\n",
       "      <th>2022-02-20</th>\n",
       "      <td>NaN</td>\n",
       "      <td>0.325050</td>\n",
       "      <td>NaN</td>\n",
       "    </tr>\n",
       "    <tr>\n",
       "      <th>2022-02-21</th>\n",
       "      <td>0.237200</td>\n",
       "      <td>0.098382</td>\n",
       "      <td>NaN</td>\n",
       "    </tr>\n",
       "    <tr>\n",
       "      <th>2022-02-22</th>\n",
       "      <td>0.085879</td>\n",
       "      <td>-0.008508</td>\n",
       "      <td>-0.091067</td>\n",
       "    </tr>\n",
       "    <tr>\n",
       "      <th>2022-02-23</th>\n",
       "      <td>0.112932</td>\n",
       "      <td>0.135894</td>\n",
       "      <td>0.065842</td>\n",
       "    </tr>\n",
       "    <tr>\n",
       "      <th>2022-02-24</th>\n",
       "      <td>-0.049773</td>\n",
       "      <td>-0.008257</td>\n",
       "      <td>-0.114363</td>\n",
       "    </tr>\n",
       "    <tr>\n",
       "      <th>2022-02-25</th>\n",
       "      <td>0.166276</td>\n",
       "      <td>-0.059150</td>\n",
       "      <td>0.093464</td>\n",
       "    </tr>\n",
       "    <tr>\n",
       "      <th>2022-02-26</th>\n",
       "      <td>0.203233</td>\n",
       "      <td>-0.101083</td>\n",
       "      <td>0.055500</td>\n",
       "    </tr>\n",
       "    <tr>\n",
       "      <th>2022-02-27</th>\n",
       "      <td>-0.098667</td>\n",
       "      <td>0.198575</td>\n",
       "      <td>0.174475</td>\n",
       "    </tr>\n",
       "  </tbody>\n",
       "</table>\n",
       "</div>"
      ],
      "text/plain": [
       "ticker          AMZN      GOOG      TSLA\n",
       "date                                    \n",
       "2022-02-19       NaN -0.012750       NaN\n",
       "2022-02-20       NaN  0.325050       NaN\n",
       "2022-02-21  0.237200  0.098382       NaN\n",
       "2022-02-22  0.085879 -0.008508 -0.091067\n",
       "2022-02-23  0.112932  0.135894  0.065842\n",
       "2022-02-24 -0.049773 -0.008257 -0.114363\n",
       "2022-02-25  0.166276 -0.059150  0.093464\n",
       "2022-02-26  0.203233 -0.101083  0.055500\n",
       "2022-02-27 -0.098667  0.198575  0.174475"
      ]
     },
     "execution_count": 13,
     "metadata": {},
     "output_type": "execute_result"
    }
   ],
   "source": [
    "mean_scores"
   ]
  },
  {
   "cell_type": "code",
   "execution_count": 14,
   "id": "4f7f55e8",
   "metadata": {},
   "outputs": [
    {
     "data": {
      "text/plain": [
       "ticker\n",
       "AMZN    0.093869\n",
       "GOOG    0.063128\n",
       "TSLA    0.030642\n",
       "dtype: float64"
      ]
     },
     "execution_count": 14,
     "metadata": {},
     "output_type": "execute_result"
    }
   ],
   "source": [
    "# Positive compound means buy, negative sell (Good/bad buzz on a stock)\n",
    "mean_scores.mean()"
   ]
  }
 ],
 "metadata": {
  "kernelspec": {
   "display_name": "Python 3 (ipykernel)",
   "language": "python",
   "name": "python3"
  },
  "language_info": {
   "codemirror_mode": {
    "name": "ipython",
    "version": 3
   },
   "file_extension": ".py",
   "mimetype": "text/x-python",
   "name": "python",
   "nbconvert_exporter": "python",
   "pygments_lexer": "ipython3",
   "version": "3.8.12"
  }
 },
 "nbformat": 4,
 "nbformat_minor": 5
}
