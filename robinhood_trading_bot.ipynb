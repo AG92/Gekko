{
 "cells": [
  {
   "cell_type": "markdown",
   "id": "073a2f16",
   "metadata": {},
   "source": [
    "# Trading Bot"
   ]
  },
  {
   "cell_type": "code",
   "execution_count": 2,
   "id": "9da85ba0",
   "metadata": {},
   "outputs": [
    {
     "name": "stdout",
     "output_type": "stream",
     "text": [
      "Collecting robin_stocks\n",
      "  Downloading robin_stocks-2.1.0-py3-none-any.whl (131 kB)\n",
      "Collecting python-dotenv\n",
      "  Downloading python_dotenv-0.19.2-py2.py3-none-any.whl (17 kB)\n",
      "Collecting cryptography\n",
      "  Downloading cryptography-36.0.1-cp36-abi3-win_amd64.whl (2.2 MB)\n",
      "Collecting pyotp\n",
      "  Downloading pyotp-2.6.0-py2.py3-none-any.whl (11 kB)\n",
      "Requirement already satisfied: requests in c:\\users\\aron gosch\\appdata\\local\\programs\\python\\python39\\lib\\site-packages (from robin_stocks) (2.27.1)\n",
      "Requirement already satisfied: cffi>=1.12 in c:\\users\\aron gosch\\appdata\\local\\programs\\python\\python39\\lib\\site-packages (from cryptography->robin_stocks) (1.15.0)\n",
      "Requirement already satisfied: pycparser in c:\\users\\aron gosch\\appdata\\local\\programs\\python\\python39\\lib\\site-packages (from cffi>=1.12->cryptography->robin_stocks) (2.21)\n",
      "Requirement already satisfied: charset-normalizer~=2.0.0 in c:\\users\\aron gosch\\appdata\\local\\programs\\python\\python39\\lib\\site-packages (from requests->robin_stocks) (2.0.12)\n",
      "Requirement already satisfied: idna<4,>=2.5 in c:\\users\\aron gosch\\appdata\\local\\programs\\python\\python39\\lib\\site-packages (from requests->robin_stocks) (3.3)\n",
      "Requirement already satisfied: certifi>=2017.4.17 in c:\\users\\aron gosch\\appdata\\local\\programs\\python\\python39\\lib\\site-packages (from requests->robin_stocks) (2021.10.8)\n",
      "Requirement already satisfied: urllib3<1.27,>=1.21.1 in c:\\users\\aron gosch\\appdata\\local\\programs\\python\\python39\\lib\\site-packages (from requests->robin_stocks) (1.26.8)\n",
      "Installing collected packages: python-dotenv, pyotp, cryptography, robin-stocks\n",
      "Successfully installed cryptography-36.0.1 pyotp-2.6.0 python-dotenv-0.19.2 robin-stocks-2.1.0\n"
     ]
    },
    {
     "name": "stderr",
     "output_type": "stream",
     "text": [
      "WARNING: You are using pip version 21.1.3; however, version 22.0.3 is available.\n",
      "You should consider upgrading via the 'c:\\users\\aron gosch\\appdata\\local\\programs\\python\\python39\\python.exe -m pip install --upgrade pip' command.\n"
     ]
    }
   ],
   "source": [
    "!pip install robin_stocks"
   ]
  },
  {
   "cell_type": "code",
   "execution_count": 8,
   "id": "e4e15367",
   "metadata": {},
   "outputs": [],
   "source": [
    "import robin_stocks.robinhood as r\n",
    "import pandas as pd\n",
    "import time"
   ]
  },
  {
   "cell_type": "markdown",
   "id": "319826b0",
   "metadata": {},
   "source": [
    "## 1) Login/access Robin hood stocks"
   ]
  },
  {
   "cell_type": "code",
   "execution_count": null,
   "id": "6c428b45",
   "metadata": {},
   "outputs": [],
   "source": [
    "username = 'user@mail.com'\n",
    "password = 'password'\n",
    "\n",
    "login = r.login(username,password)"
   ]
  },
  {
   "cell_type": "code",
   "execution_count": 9,
   "id": "edec1c0a",
   "metadata": {},
   "outputs": [
    {
     "ename": "Exception",
     "evalue": "build_holdings can only be called when logged in",
     "output_type": "error",
     "traceback": [
      "\u001b[1;31m---------------------------------------------------------------------------\u001b[0m",
      "\u001b[1;31mException\u001b[0m                                 Traceback (most recent call last)",
      "Input \u001b[1;32mIn [9]\u001b[0m, in \u001b[0;36m<cell line: 1>\u001b[1;34m()\u001b[0m\n\u001b[1;32m----> 1\u001b[0m r\u001b[38;5;241m.\u001b[39mbuild_holdings()\n",
      "File \u001b[1;32mc:\\users\\aron gosch\\appdata\\local\\programs\\python\\python39\\lib\\site-packages\\robin_stocks\\robinhood\\helper.py:31\u001b[0m, in \u001b[0;36mlogin_required.<locals>.login_wrapper\u001b[1;34m(*args, **kwargs)\u001b[0m\n\u001b[0;32m     29\u001b[0m \u001b[38;5;28;01mglobal\u001b[39;00m LOGGED_IN\n\u001b[0;32m     30\u001b[0m \u001b[38;5;28;01mif\u001b[39;00m \u001b[38;5;129;01mnot\u001b[39;00m LOGGED_IN:\n\u001b[1;32m---> 31\u001b[0m     \u001b[38;5;28;01mraise\u001b[39;00m \u001b[38;5;167;01mException\u001b[39;00m(\u001b[38;5;124m'\u001b[39m\u001b[38;5;132;01m{}\u001b[39;00m\u001b[38;5;124m can only be called when logged in\u001b[39m\u001b[38;5;124m'\u001b[39m\u001b[38;5;241m.\u001b[39mformat(\n\u001b[0;32m     32\u001b[0m         func\u001b[38;5;241m.\u001b[39m\u001b[38;5;18m__name__\u001b[39m))\n\u001b[0;32m     33\u001b[0m \u001b[38;5;28;01mreturn\u001b[39;00m(func(\u001b[38;5;241m*\u001b[39margs, \u001b[38;5;241m*\u001b[39m\u001b[38;5;241m*\u001b[39mkwargs))\n",
      "\u001b[1;31mException\u001b[0m: build_holdings can only be called when logged in"
     ]
    }
   ],
   "source": [
    "r.build_holdings()"
   ]
  },
  {
   "cell_type": "code",
   "execution_count": null,
   "id": "ec53313c",
   "metadata": {},
   "outputs": [],
   "source": [
    "#Utilities\n",
    "def visualize_price(ticker_list, span = 'year', bounds = 'regular'):   \n",
    "    for t in range(len(ticker_list)):\n",
    "        name = str(r.get_name_by_symbol(ticker_list[t]))\n",
    "        hist = r.stocks.get_historicals(ticker_list[t], span=span, bounds=bounds)\n",
    "        hist_df = pd.DataFrame()\n",
    "        for i in range(len(hist)):\n",
    "            df = pd.DataFrame(hist[i], index = [i])\n",
    "            hist_df = pd.concat([hist_df,df])\n",
    "        hist_df.begins_at = pd.to_datetime(hist_df.begins_at, infer_datetime_format=True)\n",
    "        hist_df.open_price = hist_df.open_price.astype('float32')\n",
    "        hist_df.close_price = hist_df.close_price.astype('float32')\n",
    "        hist_df.high_price = hist_df.high_price.astype('float32')\n",
    "        hist_df.low_price = hist_df.low_price.astype('float32')\n",
    "\n",
    "        ax = hist_df.plot(x = 'begins_at', y = 'open_price', figsize = (16,8))\n",
    "        ax.fill_between(hist_df.begins_at, hist_df.low_price, hist_df.high_price, alpha=0.5)\n",
    "        ax.set_xlabel('Date')\n",
    "        ax.set_ylabel('Price (USD)')\n",
    "        ax.legend([ticker_list[t]])\n",
    "        ax.set_title(name)\n",
    "    return\n",
    "\n",
    "def extract_list():\n",
    "    ticker_list = list(r.build_holdings().keys())\n",
    "    return ticker_list"
   ]
  },
  {
   "cell_type": "code",
   "execution_count": 4,
   "id": "edd3aefe",
   "metadata": {},
   "outputs": [],
   "source": [
    "def trading_bot(trading_dict):\n",
    "    \"\"\"If the stock price has a drop over a certain percentage the bot will execute a buy. \n",
    "    Conversely, if the stock price has a rise over a certain percentage the bot will execute a sell.\"\"\"\n",
    "    holdings = r.build_holdings()\n",
    "    holdings_df = pd.DataFrame()\n",
    "    for i in range(len(holdings)):\n",
    "        ticker = list(holdings.items())[i][0]\n",
    "        holding_df = pd.DataFrame(list(holdings.items())[i][1], index = [i])\n",
    "        holding_df['ticker'] = ticker\n",
    "        holdings_df = pd.concat([holdings_df, holding_df])\n",
    "    holdings_df = holdings_df[['ticker', 'price', 'quantity', 'percent_change','average_buy_price', 'equity', 'equity_change','pe_ratio', 'type', 'name', 'id' ]]\n",
    "\n",
    "    for j in range(len(trading_dict)):\n",
    "        holding_df = holdings_df[holdings_df.ticker == list(trading_dict.keys())[j]]\n",
    "        if holding_df['percent_change'].astype('float32')[0] <= list(trading_dict.values())[j][0]:\n",
    "            buy_string = 'Buying ' + str(holding_df['ticker'][0]) + ' at ' + time.ctime()\n",
    "            print(buy_string)\n",
    "            r.orders.order_buy_market(holding_df['ticker'][0],1,timeInForce= 'gfd')\n",
    "        else:\n",
    "            print('Nothing to buy')\n",
    "\n",
    "        if holding_df['percent_change'].astype('float32')[0] >= list(trading_dict.values())[j][1]:\n",
    "            sell_string = 'Buying ' + str(holding_df['ticker'][0]) + ' at ' + time.ctime()\n",
    "            print(sell_string)\n",
    "            r.orders.order_sell_market(holding_df['ticker'][0],1,timeInForce= 'gfd')\n",
    "        else:\n",
    "            print('Nothing to sell')"
   ]
  },
  {
   "cell_type": "code",
   "execution_count": 5,
   "id": "ff75fcf0",
   "metadata": {},
   "outputs": [
    {
     "ename": "AttributeError",
     "evalue": "module 'robin_stocks' has no attribute 'build_holdings'",
     "output_type": "error",
     "traceback": [
      "\u001b[1;31m---------------------------------------------------------------------------\u001b[0m",
      "\u001b[1;31mAttributeError\u001b[0m                            Traceback (most recent call last)",
      "Input \u001b[1;32mIn [5]\u001b[0m, in \u001b[0;36m<cell line: 2>\u001b[1;34m()\u001b[0m\n\u001b[0;32m      1\u001b[0m trading_dict \u001b[38;5;241m=\u001b[39m {\u001b[38;5;124m'\u001b[39m\u001b[38;5;124mKMI\u001b[39m\u001b[38;5;124m'\u001b[39m: [\u001b[38;5;241m-\u001b[39m\u001b[38;5;241m0.50\u001b[39m, \u001b[38;5;241m0.50\u001b[39m]}\n\u001b[1;32m----> 2\u001b[0m holdings_df \u001b[38;5;241m=\u001b[39m trading_bot(trading_dict)\n",
      "Input \u001b[1;32mIn [4]\u001b[0m, in \u001b[0;36mtrading_bot\u001b[1;34m(trading_dict)\u001b[0m\n\u001b[0;32m      1\u001b[0m \u001b[38;5;28;01mdef\u001b[39;00m \u001b[38;5;21mtrading_bot\u001b[39m(trading_dict):\n\u001b[0;32m      2\u001b[0m     \u001b[38;5;124;03m\"\"\"If the stock price has a drop over a certain percentage the bot will execute a buy. \u001b[39;00m\n\u001b[0;32m      3\u001b[0m \u001b[38;5;124;03m    Conversely, if the stock price has a rise over a certain percentage the bot will execute a sell.\"\"\"\u001b[39;00m\n\u001b[1;32m----> 4\u001b[0m     holdings \u001b[38;5;241m=\u001b[39m \u001b[43mr\u001b[49m\u001b[38;5;241;43m.\u001b[39;49m\u001b[43mbuild_holdings\u001b[49m()\n\u001b[0;32m      5\u001b[0m     holdings_df \u001b[38;5;241m=\u001b[39m pd\u001b[38;5;241m.\u001b[39mDataFrame()\n\u001b[0;32m      6\u001b[0m     \u001b[38;5;28;01mfor\u001b[39;00m i \u001b[38;5;129;01min\u001b[39;00m \u001b[38;5;28mrange\u001b[39m(\u001b[38;5;28mlen\u001b[39m(holdings)):\n",
      "\u001b[1;31mAttributeError\u001b[0m: module 'robin_stocks' has no attribute 'build_holdings'"
     ]
    }
   ],
   "source": [
    "trading_dict = {'KMI': [-0.50, 0.50]}\n",
    "holdings_df = trading_bot(trading_dict)"
   ]
  },
  {
   "cell_type": "markdown",
   "id": "ca8b347d",
   "metadata": {},
   "source": [
    "Buy 10 shares of Apple at market price\n",
    "\n",
    "robin_stocks.order_buy_market('AAPL',10)\n",
    "\n",
    "Sell half a Bitcoin is price reaches 10,000\n",
    "\n",
    "robin_stocks.order_sell_crypto_limit('BTC',0.5,10000)\n",
    "\n",
    "Buy $500 worth of Bitcoin\n",
    "\n",
    "robin_stocks.order_buy_crypto_by_price('BTC',500)\n",
    "\n",
    "Buy 5 150 dollar May 1st, 2020 SPY puts if the price per contract is 1.00 dollar. Good until cancelled.\n",
    "\n",
    "robin_stocks.order_buy_option_limit('open','debit',1.00,'SPY',5,'2020-05-01',150,'put','gtc')"
   ]
  }
 ],
 "metadata": {
  "kernelspec": {
   "display_name": "Python 3 (ipykernel)",
   "language": "python",
   "name": "python3"
  },
  "language_info": {
   "codemirror_mode": {
    "name": "ipython",
    "version": 3
   },
   "file_extension": ".py",
   "mimetype": "text/x-python",
   "name": "python",
   "nbconvert_exporter": "python",
   "pygments_lexer": "ipython3",
   "version": "3.9.1"
  }
 },
 "nbformat": 4,
 "nbformat_minor": 5
}
